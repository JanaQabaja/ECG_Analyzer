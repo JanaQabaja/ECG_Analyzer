{
 "cells": [
  {
   "cell_type": "code",
   "execution_count": 11,
   "metadata": {},
   "outputs": [
    {
     "name": "stderr",
     "output_type": "stream",
     "text": [
      "WARNING:absl:Compiled the loaded model, but the compiled metrics have yet to be built. `model.compile_metrics` will be empty until you train or evaluate the model.\n"
     ]
    },
    {
     "name": "stdout",
     "output_type": "stream",
     "text": [
      "\u001b[1m1/1\u001b[0m \u001b[32m━━━━━━━━━━━━━━━━━━━━\u001b[0m\u001b[37m\u001b[0m \u001b[1m1s\u001b[0m 1s/step\n",
      "Predicted class: Normal Person ECG Images\n",
      "Top 3 predicted classes with probabilities:\n",
      "Normal Person ECG Images: 0.9999994039535522\n",
      "ECG Images of Patient that have History of MI: 6.036772219886188e-07\n",
      "ECG Images of Patient that have abnormal heartbeat: 1.0817971944853433e-16\n",
      "Predicted probabilities for all classes:\n",
      "ECG Images of Myocardial Infarction Patients: 1.6489261521732144e-17\n",
      "ECG Images of Patient that have abnormal heartbeat: 1.0817971944853433e-16\n",
      "ECG Images of Patient that have History of MI: 6.036772219886188e-07\n",
      "Normal Person ECG Images: 0.9999994039535522\n"
     ]
    }
   ],
   "source": [
    "from tensorflow.keras.models import load_model\n",
    "from tensorflow.keras.preprocessing import image\n",
    "from tensorflow.keras.applications.mobilenet_v2 import preprocess_input\n",
    "import numpy as np\n",
    "\n",
    "# Load your model\n",
    "model = load_model('C:/Users/PC/Desktop/ECG_Analyzer/python/ECG-train.h5')\n",
    "\n",
    "# Load the image\n",
    "img_path = 'C:/Users/PC/Desktop/ECG_Analyzer/python/PMI (75).jpg'  # Replace 'path_to_your_image.jpg' with the actual path to your image\n",
    "img = image.load_img(img_path, target_size=(224, 224))\n",
    "\n",
    "# Preprocess the image\n",
    "img_array = image.img_to_array(img)\n",
    "img_array = np.expand_dims(img_array, axis=0)\n",
    "img_array = preprocess_input(img_array)\n",
    "\n",
    "# Make predictions\n",
    "predictions = model.predict(img_array)\n",
    "\n",
    "# Get the predicted class\n",
    "class_names = ['ECG Images of Myocardial Infarction Patients', 'ECG Images of Patient that have abnormal heartbeat', 'ECG Images of Patient that have History of MI', 'Normal Person ECG Images']\n",
    "predicted_class_index = np.argmax(predictions[0])\n",
    "predicted_class = class_names[predicted_class_index]\n",
    "\n",
    "# Print the predicted class\n",
    "print(\"Predicted class:\", predicted_class)\n",
    "\n",
    "# Get the top 3 predicted classes with probabilities\n",
    "top_classes_indices = np.argsort(predictions[0])[::-1][:3]\n",
    "top_classes = [class_names[i] for i in top_classes_indices]\n",
    "top_probabilities = predictions[0][top_classes_indices]\n",
    "\n",
    "print(\"Top 3 predicted classes with probabilities:\")\n",
    "for i in range(3):\n",
    "    print(f\"{top_classes[i]}: {top_probabilities[i]}\")\n",
    "\n",
    "# Inspect the predicted probabilities for all classes\n",
    "print(\"Predicted probabilities for all classes:\")\n",
    "for i, prob in enumerate(predictions[0]):\n",
    "    print(f\"{class_names[i]}: {prob}\")\n",
    "\n"
   ]
  },
  {
   "cell_type": "code",
   "execution_count": 3,
   "metadata": {},
   "outputs": [
    {
     "name": "stderr",
     "output_type": "stream",
     "text": [
      "WARNING:absl:Compiled the loaded model, but the compiled metrics have yet to be built. `model.compile_metrics` will be empty until you train or evaluate the model.\n"
     ]
    },
    {
     "name": "stdout",
     "output_type": "stream",
     "text": [
      "\u001b[1m1/1\u001b[0m \u001b[32m━━━━━━━━━━━━━━━━━━━━\u001b[0m\u001b[37m\u001b[0m \u001b[1m1s\u001b[0m 1s/step\n",
      "Predicted class: ECG Images of Myocardial Infarction Patients\n"
     ]
    }
   ],
   "source": [
    "import numpy as np\n",
    "from tensorflow.keras.preprocessing import image\n",
    "from tensorflow.keras.applications.resnet50 import preprocess_input\n",
    "from tensorflow.keras.models import load_model\n",
    "\n",
    "# Load the model\n",
    "model = load_model('C:/Users/PC/Desktop/ECG_Analyzer/python/ECG-train.h5')\n",
    "\n",
    "# Define class names\n",
    "class_names = ['ECG Images of Myocardial Infarction Patients',\n",
    "               'ECG Images of Patient that have abnormal heartbeat',\n",
    "               'ECG Images of Patient that have History of MI',\n",
    "               'Normal Person ECG Images']\n",
    "\n",
    "# Function to predict class of an image\n",
    "def predict_class(img_path):\n",
    "    img = image.load_img(img_path, target_size=(224, 224))\n",
    "    img_array = image.img_to_array(img)\n",
    "    img_array = np.expand_dims(img_array, axis=0)\n",
    "    img_array = preprocess_input(img_array)\n",
    "\n",
    "    # Make prediction\n",
    "    predictions = model.predict(img_array)\n",
    "    predicted_class_index = np.argmax(predictions[0])\n",
    "    predicted_class = class_names[predicted_class_index]\n",
    "\n",
    "    return predicted_class\n",
    "\n",
    "# Test with an example image\n",
    "img_path = 'C:/Users/PC/Desktop/ECG_Analyzer/python/MI(167).jpg'\n",
    "predicted_class = predict_class(img_path)\n",
    "print(\"Predicted class:\", predicted_class)\n"
   ]
  }
 ],
 "metadata": {
  "kernelspec": {
   "display_name": "Python 3",
   "language": "python",
   "name": "python3"
  },
  "language_info": {
   "codemirror_mode": {
    "name": "ipython",
    "version": 3
   },
   "file_extension": ".py",
   "mimetype": "text/x-python",
   "name": "python",
   "nbconvert_exporter": "python",
   "pygments_lexer": "ipython3",
   "version": "3.10.10"
  }
 },
 "nbformat": 4,
 "nbformat_minor": 2
}
